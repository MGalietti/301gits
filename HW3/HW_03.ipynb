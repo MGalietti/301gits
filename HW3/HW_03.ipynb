{
 "cells": [
  {
   "cell_type": "code",
   "execution_count": 1,
   "metadata": {},
   "outputs": [],
   "source": [
    "# Author: Michael Galietti\n",
    "# Date: 20200129\n",
    "# CS301-006, Professor Watson\n",
    "# HW03 Solution\n",
    "# Learning Jupyter Notebook and how to calculate and present the quartile data via python \n",
    "# link to the git repo (ex: https://github.com/MGalietti/301gits)\n",
    "# link-to-the-relevant-git-commit (ex:https://github.com/MGalietti/301gits/commit/5d8f21148b628e2017dddae957f38889ca90f9ab)\n",
    "# name-of-the-branch (ex: master)s"
   ]
  },
  {
   "cell_type": "code",
   "execution_count": null,
   "metadata": {},
   "outputs": [],
   "source": []
  }
 ],
 "metadata": {
  "kernelspec": {
   "display_name": "Python 3",
   "language": "python",
   "name": "python3"
  },
  "language_info": {
   "codemirror_mode": {
    "name": "ipython",
    "version": 3
   },
   "file_extension": ".py",
   "mimetype": "text/x-python",
   "name": "python",
   "nbconvert_exporter": "python",
   "pygments_lexer": "ipython3",
   "version": "3.7.3"
  }
 },
 "nbformat": 4,
 "nbformat_minor": 4
}
