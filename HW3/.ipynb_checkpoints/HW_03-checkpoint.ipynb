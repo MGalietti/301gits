{
 "cells": [
  {
   "cell_type": "code",
   "execution_count": 1,
   "metadata": {},
   "outputs": [],
   "source": [
    "# Author: Michael Galietti\n",
    "# Date: 20200129\n",
    "# CS301-006, Professor Watson\n",
    "# HW03 Solution\n",
    "# Learning Jupyter Notebook and how to calculate and present the quartile data via python \n",
    "# link to the git repo (ex: https://github.com/MGalietti/301gits)\n",
    "# link-to-the-relevant-git-commit (ex:https://github.com/MGalietti/301gits/commit/5d8f21148b628e2017dddae957f38889ca90f9ab)\n",
    "# name-of-the-branch (ex: master)s"
   ]
  },
  {
   "cell_type": "code",
   "execution_count": 28,
   "metadata": {},
   "outputs": [],
   "source": [
    "import pandas as pd  #makes panda pd. \n",
    "\n",
    "def data_reader(data_path):\n",
    "    try:\n",
    "        with open(data_path, 'r') as inF:\n",
    "            print(\"File Successfully read\")\n",
    "            data = pd.read_csv(inF)\n",
    "            print(\"The shape is {}\".format(data.shape))\n",
    "            return data;\n",
    "        \n",
    "    except IOError:\n",
    "        print(\"Could not read file\")\n",
    "        return None\n",
    "    \n",
    "    \n",
    "        "
   ]
  },
  {
   "cell_type": "code",
   "execution_count": 29,
   "metadata": {
    "scrolled": true
   },
   "outputs": [
    {
     "name": "stdout",
     "output_type": "stream",
     "text": [
      "File Successfully read\n",
      "The shape is (193, 6)\n"
     ]
    }
   ],
   "source": [
    "my = data_reader('C:\\\\Users\\\\Michael\\\\Desktop\\\\301gits\\\\HW3\\\\drinks.csv')"
   ]
  },
  {
   "cell_type": "code",
   "execution_count": 30,
   "metadata": {},
   "outputs": [
    {
     "name": "stdout",
     "output_type": "stream",
     "text": [
      "Could not read file\n"
     ]
    }
   ],
   "source": [
    "my1 = data_reader(\"i_dont_exist.csv\")"
   ]
  },
  {
   "cell_type": "code",
   "execution_count": 31,
   "metadata": {},
   "outputs": [],
   "source": [
    "def get_num_outliers(df, col):\n",
    "    Q1 = df[col].quantile(0.25)\n",
    "    Q3 = df[col].quantile(0.75)\n",
    "    IQR = Q3 - Q1\n",
    "    outList = [num for num in df[col] if num < (Q1 - (1.5*IQR)) or num > (Q3 + (1.5*IQR))]\n",
    "    print(len(outList))\n",
    "    \n",
    "\n"
   ]
  },
  {
   "cell_type": "code",
   "execution_count": 32,
   "metadata": {},
   "outputs": [
    {
     "name": "stdout",
     "output_type": "stream",
     "text": [
      "26\n"
     ]
    }
   ],
   "source": [
    "get_num_outliers(my,'wine_servings')"
   ]
  },
  {
   "cell_type": "code",
   "execution_count": 141,
   "metadata": {},
   "outputs": [],
   "source": [
    "def get_num_deviants(df,col,multiplier):\n",
    "    m= df[col].mean()\n",
    "    std = df[col].std()\n",
    "    lower_bound = m - (multiplier * std) \n",
    "    upper_bound = m + (multiplier * std) \n",
    "    greaterThan = [n for n in df[col] if n < lower_bound or n > upper_bound]\n",
    "    return len(greaterThan)\n",
    "\n",
    "    "
   ]
  },
  {
   "cell_type": "code",
   "execution_count": 142,
   "metadata": {},
   "outputs": [
    {
     "data": {
      "text/plain": [
       "28"
      ]
     },
     "execution_count": 142,
     "metadata": {},
     "output_type": "execute_result"
    }
   ],
   "source": [
    "get_num_deviants(my,'wine_servings',1)"
   ]
  },
  {
   "cell_type": "code",
   "execution_count": 143,
   "metadata": {},
   "outputs": [
    {
     "data": {
      "text/plain": [
       "15"
      ]
     },
     "execution_count": 143,
     "metadata": {},
     "output_type": "execute_result"
    }
   ],
   "source": [
    "get_num_deviants(my,'wine_servings',2)"
   ]
  },
  {
   "cell_type": "code",
   "execution_count": null,
   "metadata": {},
   "outputs": [],
   "source": []
  }
 ],
 "metadata": {
  "kernelspec": {
   "display_name": "Python 3",
   "language": "python",
   "name": "python3"
  },
  "language_info": {
   "codemirror_mode": {
    "name": "ipython",
    "version": 3
   },
   "file_extension": ".py",
   "mimetype": "text/x-python",
   "name": "python",
   "nbconvert_exporter": "python",
   "pygments_lexer": "ipython3",
   "version": "3.7.3"
  }
 },
 "nbformat": 4,
 "nbformat_minor": 4
}
