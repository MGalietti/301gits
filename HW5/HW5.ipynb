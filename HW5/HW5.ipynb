{
 "cells": [
  {
   "cell_type": "code",
   "execution_count": 7,
   "metadata": {},
   "outputs": [],
   "source": [
    "# Author: Michael Galietti\n",
    "# Date: 20200307\n",
    "# CS301-006, Professor Watson\n",
    "# HW05 Solution\n",
    "# Learning Jupyter Notebook and how to visually represent data in graph related forms  \n",
    "# link to the git repo (ex: https://github.com/MGalietti/301gits)\n",
    "# link-to-the-relevant-git-commit (ex:https://github.com/MGalietti/301gits/commit/de4553b0fe2efe149798d08480f8387ef2567455)\n",
    "# name-of-the-branch (ex: master)s"
   ]
  },
  {
   "cell_type": "code",
   "execution_count": 1,
   "metadata": {},
   "outputs": [],
   "source": [
    "import pandas as pd\n",
    "pd.set_option('display.max_columns', 999)\n",
    "import numpy as np\n",
    "\n",
    "##Visualization Libraries\n",
    "import matplotlib as mpl\n",
    "import matplotlib.pyplot as plt\n",
    "%matplotlib inline\n",
    "    "
   ]
  },
  {
   "cell_type": "code",
   "execution_count": 4,
   "metadata": {},
   "outputs": [
    {
     "data": {
      "text/html": [
       "<div>\n",
       "<style scoped>\n",
       "    .dataframe tbody tr th:only-of-type {\n",
       "        vertical-align: middle;\n",
       "    }\n",
       "\n",
       "    .dataframe tbody tr th {\n",
       "        vertical-align: top;\n",
       "    }\n",
       "\n",
       "    .dataframe thead th {\n",
       "        text-align: right;\n",
       "    }\n",
       "</style>\n",
       "<table border=\"1\" class=\"dataframe\">\n",
       "  <thead>\n",
       "    <tr style=\"text-align: right;\">\n",
       "      <th></th>\n",
       "      <th>Unnamed: 0</th>\n",
       "      <th>Name</th>\n",
       "      <th>Midterm</th>\n",
       "      <th>Final</th>\n",
       "      <th>Attendance</th>\n",
       "      <th>HW</th>\n",
       "      <th>Final Average</th>\n",
       "      <th>Final Letter</th>\n",
       "      <th>Numeric Bin</th>\n",
       "      <th>Majors</th>\n",
       "    </tr>\n",
       "  </thead>\n",
       "  <tbody>\n",
       "    <tr>\n",
       "      <td>0</td>\n",
       "      <td>0</td>\n",
       "      <td>Ariel</td>\n",
       "      <td>89</td>\n",
       "      <td>92</td>\n",
       "      <td>9</td>\n",
       "      <td>9</td>\n",
       "      <td>86.0</td>\n",
       "      <td>B+</td>\n",
       "      <td>80.0</td>\n",
       "      <td>BNFO</td>\n",
       "    </tr>\n",
       "    <tr>\n",
       "      <td>1</td>\n",
       "      <td>1</td>\n",
       "      <td>Brody</td>\n",
       "      <td>92</td>\n",
       "      <td>93</td>\n",
       "      <td>10</td>\n",
       "      <td>9</td>\n",
       "      <td>89.0</td>\n",
       "      <td>A</td>\n",
       "      <td>80.0</td>\n",
       "      <td>BNFO</td>\n",
       "    </tr>\n",
       "    <tr>\n",
       "      <td>2</td>\n",
       "      <td>2</td>\n",
       "      <td>Debra</td>\n",
       "      <td>76</td>\n",
       "      <td>88</td>\n",
       "      <td>8</td>\n",
       "      <td>6</td>\n",
       "      <td>74.0</td>\n",
       "      <td>C+</td>\n",
       "      <td>70.0</td>\n",
       "      <td>MATH</td>\n",
       "    </tr>\n",
       "    <tr>\n",
       "      <td>3</td>\n",
       "      <td>3</td>\n",
       "      <td>Rex</td>\n",
       "      <td>90</td>\n",
       "      <td>83</td>\n",
       "      <td>10</td>\n",
       "      <td>10</td>\n",
       "      <td>88.0</td>\n",
       "      <td>B+</td>\n",
       "      <td>80.0</td>\n",
       "      <td>MATH</td>\n",
       "    </tr>\n",
       "    <tr>\n",
       "      <td>4</td>\n",
       "      <td>4</td>\n",
       "      <td>Jerry</td>\n",
       "      <td>67</td>\n",
       "      <td>85</td>\n",
       "      <td>7</td>\n",
       "      <td>5</td>\n",
       "      <td>66.0</td>\n",
       "      <td>D</td>\n",
       "      <td>60.0</td>\n",
       "      <td>BNFO</td>\n",
       "    </tr>\n",
       "  </tbody>\n",
       "</table>\n",
       "</div>"
      ],
      "text/plain": [
       "   Unnamed: 0   Name  Midterm  Final  Attendance  HW  Final Average  \\\n",
       "0           0  Ariel       89     92           9   9           86.0   \n",
       "1           1  Brody       92     93          10   9           89.0   \n",
       "2           2  Debra       76     88           8   6           74.0   \n",
       "3           3    Rex       90     83          10  10           88.0   \n",
       "4           4  Jerry       67     85           7   5           66.0   \n",
       "\n",
       "  Final Letter  Numeric Bin Majors  \n",
       "0           B+         80.0   BNFO  \n",
       "1            A         80.0   BNFO  \n",
       "2           C+         70.0   MATH  \n",
       "3           B+         80.0   MATH  \n",
       "4            D         60.0   BNFO  "
      ]
     },
     "execution_count": 4,
     "metadata": {},
     "output_type": "execute_result"
    }
   ],
   "source": [
    "student_data = '.\\student_class.csv'\n",
    "weather_file = data_dir + 'daily-climate-time-series-data\\\\DailyDelhiClimateTrain.csv'\n",
    "df = pd.read_csv(student_data)\n",
    "df.head()"
   ]
  },
  {
   "cell_type": "markdown",
   "metadata": {},
   "source": [
    "The overall performance shows that for the midterm Final and Final Avg of BNFO is the most sound major in regards to the data set. Marks are the bars, Channels are the height of the bars, attributes are Major and Median scores and data items are the score we took the median of. Besides BNFO Math and IT frought home the silver and bronze medals "
   ]
  },
  {
   "cell_type": "code",
   "execution_count": 24,
   "metadata": {},
   "outputs": [
    {
     "data": {
      "image/png": "[encoded data removed]",
      "text/plain": [
       "<Figure size 864x432 with 1 Axes>"
      ]
     },
     "metadata": {
      "needs_background": "light"
     },
     "output_type": "display_data"
    }
   ],
   "source": [
    "label = df['Majors'].unique()\n",
    "Midterm_median = df.groupby('Majors')['Midterm'].median().reset_index()\n",
    "Final_median = df.groupby('Majors')['Final'].median().reset_index() \n",
    "Final_avg_median = df.groupby('Majors')['Final Average'].median().reset_index()\n",
    "\n",
    "label_locations = np.arange(Midterm_median.shape[0])\n",
    "\n",
    "w = 0.27\n",
    "plt.bar(label_locations - w, Midterm_median['Midterm'], width=w, label='Midterm', color='red')\n",
    "plt.bar(label_locations, Final_median['Final'], width=w, label='Final', color='green')\n",
    "plt.bar(label_locations + w, Final_avg_median['Final Average'], width=w, label='Final Avg', color='blue')\n",
    "plt.gcf().set_size_inches(12, 6)\n",
    "plt.title('Median, Midterm, Final, and Final Average Scores')\n",
    "plt.xlabel('Major')\n",
    "plt.ylabel('Median Score')\n",
    "plt.xticks(label_locations, labels=label)\n",
    "plt.gcf().set_size_inches(12, 6)\n",
    "plt.legend(loc='upper right')\n",
    "plt.show()\n",
    "\n"
   ]
  },
  {
   "cell_type": "markdown",
   "metadata": {},
   "source": [
    "Data items are the scores we count of, the Marks are the bar area themselves in each bin, the Channels are reltaionship postiion based of height and attributes are frequency which a histograms shows and the grade bins. I wouldnt change a thing other than bolding the lines between bins. The data is left skewed."
   ]
  },
  {
   "cell_type": "code",
   "execution_count": 48,
   "metadata": {
    "scrolled": true
   },
   "outputs": [
    {
     "data": {
      "image/png": "[encoded data removed]",
      "text/plain": [
       "<Figure size 864x432 with 1 Axes>"
      ]
     },
     "metadata": {
      "needs_background": "light"
     },
     "output_type": "display_data"
    }
   ],
   "source": [
    "label = [40,50,60,70,80,90,100]\n",
    "\n",
    "Grade_data = df.groupby('Numeric Bin')['Name'].count().reset_index()\n",
    "\n",
    "plt.hist(df['Final Average'],label)\n",
    "plt.gcf().set_size_inches(12, 6)\n",
    "plt.title('Number of Students in Each Grade Bin')\n",
    "plt.xlabel('Grade')\n",
    "plt.ylabel('Frequency')\n",
    "plt.xticks()\n",
    "plt.gcf().set_size_inches(12, 6)\n",
    "plt.show()\n"
   ]
  },
  {
   "cell_type": "markdown",
   "metadata": {},
   "source": [
    "Marks are the colored dots, Channels are the relationship of the final average and Exam score based on position of the dots. Attributes are the axies of it and the data items show a positive trend of exams vs final average "
   ]
  },
  {
   "cell_type": "code",
   "execution_count": 47,
   "metadata": {},
   "outputs": [
    {
     "data": {
      "image/png": "[encoded data removed]",
      "text/plain": [
       "<Figure size 864x432 with 1 Axes>"
      ]
     },
     "metadata": {
      "needs_background": "light"
     },
     "output_type": "display_data"
    }
   ],
   "source": [
    "plt.scatter(df['Midterm'], df['Final Average'].values, c = 'red', label='Midterm')\n",
    "plt.scatter(df['Final'], df['Final Average'].values,c = 'blue', label='Final')\n",
    "\n",
    "plt.gcf().set_size_inches(12, 6)\n",
    "plt.ylabel('Final Average')\n",
    "plt.xlabel('Exam Score')\n",
    "plt.title('Exams vs Final Average')\n",
    "plt.legend(loc='upper left')\n",
    "plt.tight_layout()\n",
    "plt.show()"
   ]
  }
 ],
 "metadata": {
  "kernelspec": {
   "display_name": "Python 3",
   "language": "python",
   "name": "python3"
  },
  "language_info": {
   "codemirror_mode": {
    "name": "ipython",
    "version": 3
   },
   "file_extension": ".py",
   "mimetype": "text/x-python",
   "name": "python",
   "nbconvert_exporter": "python",
   "pygments_lexer": "ipython3",
   "version": "3.7.4"
  }
 },
 "nbformat": 4,
 "nbformat_minor": 4
}
